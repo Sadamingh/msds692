{
 "cells": [
  {
   "cell_type": "markdown",
   "metadata": {},
   "source": [
    "# Code review\n",
    "\n",
    "**Do not share code on a project until that project deadline (start of class) has passed.**  All projects in this class are individual projects, not group projects.  You may not look at or discuss code with others until after you have submitted your own individual effort.\n",
    "\n",
    "This is a code review for $\\fbox{ name of partner }$\n",
    "\n",
    "This document serves as a basic code review structure that you can use to evaluate your partner(s)'s code. Here are a couple of key points to keep in mind:\n",
    "\n",
    "1. *Code reviews do not in any way affect the grade of the person you are reviewing.*\n",
    "1. Turn in a reasonable effort reviewing your partner(s) and you get credit for this mini assignment.\n",
    "1. Be positive and use soft language with no personal attacks. The goal is to help your partner be a better programmer and also to learn from your partner's code. If the code is very good, then please say so. If the code has lots of problems, you can still provide constructive criticism by saying things like: \"Perhaps you could find a way to simplify that nested loop into a single loop.\"\n",
    "1. Submit a pdf (print then save as...) to Canvas of a copy of this notebook with your comments filled in.\n",
    "1. Spend at most 30 minutes doing these code reviews.\n",
    "\n",
    "When you have submitted your review, also send a PDF to your partner."
   ]
  },
  {
   "cell_type": "markdown",
   "metadata": {},
   "source": [
    "## Basic sanity checks\n",
    "\n",
    "(Place an `x` in the square brackets of the markdown to check the box.)\n",
    "\n",
    "- [ ] I received a code zip from my group partner(s)\n",
    "- [ ] Unit tests execute without syntax error\n",
    "\n",
    "Number of unit tests that fail?  $\\fbox{ num failures }$"
   ]
  },
  {
   "cell_type": "markdown",
   "metadata": {},
   "source": [
    "## Review questions"
   ]
  },
  {
   "cell_type": "markdown",
   "metadata": {},
   "source": [
    "### Describe the quality of the function and variable names\n",
    "\n",
    "Programs should be readable by others and so you should name variables and functions according to their purpose. Don't name them by their type alone. For example, `df` is fine for small little scripts but `df_bulldozer` makes it clear that it's a data frame holding the bulldozer data set. \n",
    "\n",
    "If functions or variables are named v1, v2, v3, etc..., it means that the programmer has no idea and why they are creating these or they don't understand the importance of good naming.\n",
    "\n",
    "(You can ignore functions and variables provided by the instructor.)"
   ]
  },
  {
   "cell_type": "markdown",
   "metadata": {},
   "source": []
  },
  {
   "cell_type": "markdown",
   "metadata": {},
   "source": [
    "### Is there a lot of duplicated code?\n",
    "\n",
    "In general, we want exactly one place in our code to compute one thing. If we need that functionality more than once, the code should be in a function and we simply call the function. Take a quick look and see if you find lots of duplicated code and give an indication here."
   ]
  },
  {
   "cell_type": "markdown",
   "metadata": {},
   "source": []
  },
  {
   "cell_type": "markdown",
   "metadata": {},
   "source": [
    "### How easy is it to read the code?\n",
    "\n",
    "Even with good variable and function names, code could have bad structure. Bad structure can mean too much nesting, is overly complex, has weird/useless code, etc... It's also a bad idea to leave all kinds of dead code commented out. Programmers want to see a clean piece of code, not something with a bunch of junk laying around.\n",
    "\n",
    "Were there comments and where the comments useful? For example, here is a terrible comment:\n",
    "\n",
    "```\n",
    "x = 0    # reset x\n",
    "```\n",
    "\n",
    "It is terrible because all it does is repeat what the code says. A good comment says why you are resetting x at this point in the code. Or, it indicates what the goal is."
   ]
  },
  {
   "cell_type": "markdown",
   "metadata": {},
   "source": []
  },
  {
   "cell_type": "markdown",
   "metadata": {},
   "source": [
    "### How hard would it be to modify this code?\n",
    "\n",
    "In industry, code often has a long lifetime and is continuously improved as business needs change etc...  Code quality definitely affects your ability to add features to code. Imagine trying to alter this code and describe  whether it would be easy or hard and why."
   ]
  },
  {
   "cell_type": "markdown",
   "metadata": {},
   "source": []
  },
  {
   "cell_type": "markdown",
   "metadata": {},
   "source": [
    "### Optionally, you can comment according to this code style\n",
    "\n",
    "[Google's style guide](https://google.github.io/styleguide/pyguide.html) is a good place to read more about good programming style. There is also a tool called [`pylint`](https://www.pylint.org/) that you can run for finding bugs and style problems in code."
   ]
  }
 ],
 "metadata": {
  "kernelspec": {
   "display_name": "Python 3",
   "language": "python",
   "name": "python3"
  },
  "language_info": {
   "codemirror_mode": {
    "name": "ipython",
    "version": 3
   },
   "file_extension": ".py",
   "mimetype": "text/x-python",
   "name": "python",
   "nbconvert_exporter": "python",
   "pygments_lexer": "ipython3",
   "version": "3.8.3"
  }
 },
 "nbformat": 4,
 "nbformat_minor": 4
}
